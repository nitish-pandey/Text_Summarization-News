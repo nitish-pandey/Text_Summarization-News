{
 "cells": [
  {
   "attachments": {},
   "cell_type": "markdown",
   "metadata": {},
   "source": [
    "## Table of Contents\n",
    "1. Importing Libraries\n",
    "2. Loading Data\n",
    "3. Data Preprocessing\n",
    "4. Save Data"
   ]
  },
  {
   "attachments": {},
   "cell_type": "markdown",
   "metadata": {},
   "source": [
    "## 1. Imports and Settings"
   ]
  },
  {
   "cell_type": "code",
   "execution_count": 1,
   "metadata": {},
   "outputs": [],
   "source": [
    "\n",
    "import pandas as pd\n",
    "import numpy as np\n",
    "import nltk\n",
    "\n",
    "import scipy.stats as stats\n",
    "import matplotlib.pyplot as plt\n",
    "import seaborn as sns\n",
    "\n",
    "import os\n",
    "import sys\n",
    "import warnings\n",
    "import re\n",
    "import pickle\n",
    "warnings.filterwarnings('ignore')\n",
    "\n"
   ]
  },
  {
   "attachments": {},
   "cell_type": "markdown",
   "metadata": {},
   "source": [
    "## 2. Load Data"
   ]
  },
  {
   "cell_type": "code",
   "execution_count": 2,
   "metadata": {},
   "outputs": [],
   "source": [
    "\n",
    "# Current working directory\n",
    "cwd='DataSet/BBC News Summary/'\n",
    "\n",
    "# Path to the files\n",
    "article_path=cwd+'News Articles/'\n",
    "summary_path=cwd+'Summaries/'\n",
    "\n",
    "# List of folders in the path\n",
    "article_folders=os.listdir(article_path)\n",
    "summary_folders=os.listdir(summary_path)\n",
    "\n",
    "# List of files in the path\n",
    "article_files=[]\n",
    "summary_files=[]\n",
    "\n",
    "for folder in article_folders:\n",
    "    # append name with folder name\n",
    "    article_files.append([folder+'/'+file for file in os.listdir(article_path+folder)])\n",
    "\n",
    "\n",
    "for folder in summary_folders:\n",
    "    # append name with folder name\n",
    "    summary_files.append([folder+'/'+file for file in os.listdir(summary_path+folder)])\n",
    "\n",
    "\n",
    "# Flatten the list\n",
    "article_files=[item for sublist in article_files for item in sublist]\n",
    "summary_files=[item for sublist in summary_files for item in sublist]\n",
    "\n",
    "\n",
    "# Sort the list\n",
    "article_files.sort()\n",
    "summary_files.sort()\n"
   ]
  },
  {
   "cell_type": "code",
   "execution_count": 3,
   "metadata": {},
   "outputs": [
    {
     "data": {
      "text/plain": [
       "['DataSet/BBC News Summary/News Articles/business/001.txt',\n",
       " 'DataSet/BBC News Summary/News Articles/business/002.txt',\n",
       " 'DataSet/BBC News Summary/News Articles/business/003.txt',\n",
       " 'DataSet/BBC News Summary/News Articles/business/004.txt',\n",
       " 'DataSet/BBC News Summary/News Articles/business/005.txt']"
      ]
     },
     "execution_count": 3,
     "metadata": {},
     "output_type": "execute_result"
    }
   ],
   "source": [
    "\n",
    "# Path to the files\n",
    "article_files=[article_path+file for file in article_files]\n",
    "summary_files=[summary_path+file for file in summary_files]\n",
    "\n",
    "# Sample files\n",
    "article_files[:5]"
   ]
  },
  {
   "cell_type": "code",
   "execution_count": 4,
   "metadata": {},
   "outputs": [
    {
     "data": {
      "text/plain": [
       "['DataSet/BBC News Summary/Summaries/business/001.txt',\n",
       " 'DataSet/BBC News Summary/Summaries/business/002.txt',\n",
       " 'DataSet/BBC News Summary/Summaries/business/003.txt',\n",
       " 'DataSet/BBC News Summary/Summaries/business/004.txt',\n",
       " 'DataSet/BBC News Summary/Summaries/business/005.txt']"
      ]
     },
     "execution_count": 4,
     "metadata": {},
     "output_type": "execute_result"
    }
   ],
   "source": [
    "\n",
    "# Sample files\n",
    "summary_files[:5]"
   ]
  },
  {
   "cell_type": "code",
   "execution_count": 5,
   "metadata": {},
   "outputs": [
    {
     "name": "stdout",
     "output_type": "stream",
     "text": [
      "Start\n",
      "Ad sales boost Time Warner profitQuarterly profits at US media giant TimeWarner jumped 76% to $1.13bn (£600m) for the three months to December, from $639m year-earlier.The firm, which is now one of the biggest investors in Google, benefited from sales of high-speed internet connections and higher advert sales. TimeWarner said fourth quarter sales rose 2% to $11.1bn from $10.9bn. Its profits were buoyed by one-off gains which offset a profit dip at Warner Bros, and less users for AOL.Time Warner said on Friday that it now owns 8% of search-engine Google. But its own internet business, AOL, had has mixed fortunes. It lost 464,000 subscribers in the fourth quarter profits were lower than in the preceding three quarters. However, the company said AOL's underlying profit before exceptional items rose 8% on the back of stronger internet advertising revenues. It hopes to increase subscribers by offering the online service free to TimeWarner internet customers and will try to sign up AOL's existing customers for high-speed broadband. TimeWarner also has to restate 2000 and 2003 results following a probe by the US Securities Exchange Commission (SEC), which is close to concluding.Time Warner's fourth quarter profits were slightly better than analysts' expectations. But its film division saw profits slump 27% to $284m, helped by box-office flops Alexander and Catwoman, a sharp contrast to year-earlier, when the third and final film in the Lord of the Rings trilogy boosted results. For the full-year, TimeWarner posted a profit of $3.36bn, up 27% from its 2003 performance, while revenues grew 6.4% to $42.09bn. \"Our financial performance was strong, meeting or exceeding all of our full-year objectives and greatly enhancing our flexibility,\" chairman and chief executive Richard Parsons said. For 2005, TimeWarner is projecting operating earnings growth of around 5%, and also expects higher revenue and wider profit margins.TimeWarner is to restate its accounts as part of efforts to resolve an inquiry into AOL by US market regulators. It has already offered to pay $300m to settle charges, in a deal that is under review by the SEC. The company said it was unable to estimate the amount it needed to set aside for legal reserves, which it previously set at $500m. It intends to adjust the way it accounts for a deal with German music publisher Bertelsmann's purchase of a stake in AOL Europe, which it had reported as advertising revenue. It will now book the sale of its stake in AOL Europe as a loss on the value of that stake.\n",
      "End\n",
      "TimeWarner said fourth quarter sales rose 2% to $11.1bn from $10.9bn.For the full-year, TimeWarner posted a profit of $3.36bn, up 27% from its 2003 performance, while revenues grew 6.4% to $42.09bn.Quarterly profits at US media giant TimeWarner jumped 76% to $1.13bn (£600m) for the three months to December, from $639m year-earlier.However, the company said AOL's underlying profit before exceptional items rose 8% on the back of stronger internet advertising revenues.Its profits were buoyed by one-off gains which offset a profit dip at Warner Bros, and less users for AOL.For 2005, TimeWarner is projecting operating earnings growth of around 5%, and also expects higher revenue and wider profit margins.It lost 464,000 subscribers in the fourth quarter profits were lower than in the preceding three quarters.Time Warner's fourth quarter profits were slightly better than analysts' expectations.\n"
     ]
    }
   ],
   "source": [
    "# Read the first article and summary\n",
    "\n",
    "with open(article_files[0], 'r') as file:\n",
    "    article = file.read().replace('\\n', '')\n",
    "\n",
    "\n",
    "with open(summary_files[0], 'r') as file:\n",
    "    summary = file.read().replace('\\n', '')\n",
    "\n",
    "print(\"Start\")\n",
    "print(article)\n",
    "print(\"End\")\n",
    "print(summary)"
   ]
  },
  {
   "cell_type": "code",
   "execution_count": 6,
   "metadata": {},
   "outputs": [
    {
     "data": {
      "text/html": [
       "<div>\n",
       "<style scoped>\n",
       "    .dataframe tbody tr th:only-of-type {\n",
       "        vertical-align: middle;\n",
       "    }\n",
       "\n",
       "    .dataframe tbody tr th {\n",
       "        vertical-align: top;\n",
       "    }\n",
       "\n",
       "    .dataframe thead th {\n",
       "        text-align: right;\n",
       "    }\n",
       "</style>\n",
       "<table border=\"1\" class=\"dataframe\">\n",
       "  <thead>\n",
       "    <tr style=\"text-align: right;\">\n",
       "      <th></th>\n",
       "      <th>Article</th>\n",
       "      <th>Summary</th>\n",
       "    </tr>\n",
       "  </thead>\n",
       "  <tbody>\n",
       "    <tr>\n",
       "      <th>0</th>\n",
       "      <td>Ad sales boost Time Warner profitQuarterly pro...</td>\n",
       "      <td>TimeWarner said fourth quarter sales rose 2% t...</td>\n",
       "    </tr>\n",
       "    <tr>\n",
       "      <th>1</th>\n",
       "      <td>Dollar gains on Greenspan speechThe dollar has...</td>\n",
       "      <td>The dollar has hit its highest level against t...</td>\n",
       "    </tr>\n",
       "    <tr>\n",
       "      <th>2</th>\n",
       "      <td>Yukos unit buyer faces loan claimThe owners of...</td>\n",
       "      <td>Yukos' owner Menatep Group says it will ask Ro...</td>\n",
       "    </tr>\n",
       "    <tr>\n",
       "      <th>3</th>\n",
       "      <td>High fuel prices hit BA's profitsBritish Airwa...</td>\n",
       "      <td>Rod Eddington, BA's chief executive, said the ...</td>\n",
       "    </tr>\n",
       "    <tr>\n",
       "      <th>4</th>\n",
       "      <td>Pernod takeover talk lifts DomecqShares in UK ...</td>\n",
       "      <td>Pernod has reduced the debt it took on to fund...</td>\n",
       "    </tr>\n",
       "  </tbody>\n",
       "</table>\n",
       "</div>"
      ],
      "text/plain": [
       "                                             Article  \\\n",
       "0  Ad sales boost Time Warner profitQuarterly pro...   \n",
       "1  Dollar gains on Greenspan speechThe dollar has...   \n",
       "2  Yukos unit buyer faces loan claimThe owners of...   \n",
       "3  High fuel prices hit BA's profitsBritish Airwa...   \n",
       "4  Pernod takeover talk lifts DomecqShares in UK ...   \n",
       "\n",
       "                                             Summary  \n",
       "0  TimeWarner said fourth quarter sales rose 2% t...  \n",
       "1  The dollar has hit its highest level against t...  \n",
       "2  Yukos' owner Menatep Group says it will ask Ro...  \n",
       "3  Rod Eddington, BA's chief executive, said the ...  \n",
       "4  Pernod has reduced the debt it took on to fund...  "
      ]
     },
     "execution_count": 6,
     "metadata": {},
     "output_type": "execute_result"
    }
   ],
   "source": [
    "\n",
    "# Read all the articles and summaries\n",
    "\n",
    "# Create empty lists\n",
    "articles=[]\n",
    "summaries=[]\n",
    "\n",
    "\n",
    "# Read the files\n",
    "for file in article_files:\n",
    "    with open(file, 'r',encoding=\"utf8\", errors='ignore') as f:\n",
    "        articles.append(f.read().replace('\\n', ''))\n",
    "\n",
    "for file in summary_files:\n",
    "    with open(file, 'r',encoding=\"utf8\", errors='ignore') as f:\n",
    "        summaries.append(f.read().replace('\\n', ''))\n",
    "        \n",
    "\n",
    "# Create a dataframe\n",
    "\n",
    "df=pd.DataFrame({'Article':articles,'Summary':summaries})\n",
    "df.head()\n",
    "\n"
   ]
  },
  {
   "attachments": {},
   "cell_type": "markdown",
   "metadata": {},
   "source": [
    "## 3. Data Preprocessing"
   ]
  },
  {
   "cell_type": "code",
   "execution_count": 7,
   "metadata": {},
   "outputs": [],
   "source": [
    "\n",
    "# Our Custom Function to clean the text\n",
    "\n",
    "# Set of Stopwords\n",
    "stops=set(nltk.corpus.stopwords.words('english'))\n",
    "\n",
    "# Lemmatizer\n",
    "lammetizer=nltk.stem.WordNetLemmatizer()\n",
    "\n",
    "def clean_for_article(text):\n",
    "\n",
    "    # Lower case\n",
    "    text=text.lower()\n",
    "\n",
    "    # Remove punctuations\n",
    "    text=re.sub(r'[^\\w\\s]','',text)\n",
    "\n",
    "    # Remove numbers\n",
    "    text=re.sub(r'\\d+','',text)\n",
    "\n",
    "    # Remove extra spaces\n",
    "    text=re.sub(r'\\s+',' ',text)\n",
    "\n",
    "    # Remove extra spaces from start and end\n",
    "    text=text.strip()\n",
    "\n",
    "    # Remove Stopwords\n",
    "    text=' '.join([word for word in text.split() if word not in stops])\n",
    "\n",
    "    # lammatization\n",
    "    text=' '.join([lammetizer.lemmatize(word) for word in text.split()])\n",
    "\n",
    "    # Add start and end tokens\n",
    "    text='<start> '+text+' <end>'\n",
    "\n",
    "    return text\n",
    "\n",
    "\n",
    "def clean_for_summary(text):\n",
    "\n",
    "    # Lower case\n",
    "    text=text.lower()\n",
    "\n",
    "    # Remove punctuations\n",
    "    text=re.sub(r'[^\\w\\s]','',text)\n",
    "\n",
    "    # Remove numbers\n",
    "    text=re.sub(r'\\d+','',text)\n",
    "\n",
    "    # Remove extra spaces\n",
    "    text=re.sub(r'\\s+',' ',text)\n",
    "\n",
    "    # Remove extra spaces from start and end\n",
    "    text=text.strip()\n",
    "\n",
    "    # Add start and end tokens\n",
    "    text='<start> '+text+' <end>'\n",
    "\n",
    "    return text\n"
   ]
  },
  {
   "cell_type": "code",
   "execution_count": 8,
   "metadata": {},
   "outputs": [
    {
     "data": {
      "text/html": [
       "<div>\n",
       "<style scoped>\n",
       "    .dataframe tbody tr th:only-of-type {\n",
       "        vertical-align: middle;\n",
       "    }\n",
       "\n",
       "    .dataframe tbody tr th {\n",
       "        vertical-align: top;\n",
       "    }\n",
       "\n",
       "    .dataframe thead th {\n",
       "        text-align: right;\n",
       "    }\n",
       "</style>\n",
       "<table border=\"1\" class=\"dataframe\">\n",
       "  <thead>\n",
       "    <tr style=\"text-align: right;\">\n",
       "      <th></th>\n",
       "      <th>Article</th>\n",
       "      <th>Summary</th>\n",
       "    </tr>\n",
       "  </thead>\n",
       "  <tbody>\n",
       "    <tr>\n",
       "      <th>0</th>\n",
       "      <td>&lt;start&gt; ad sale boost time warner profitquarte...</td>\n",
       "      <td>&lt;start&gt; timewarner said fourth quarter sales r...</td>\n",
       "    </tr>\n",
       "    <tr>\n",
       "      <th>1</th>\n",
       "      <td>&lt;start&gt; dollar gain greenspan speechthe dollar...</td>\n",
       "      <td>&lt;start&gt; the dollar has hit its highest level a...</td>\n",
       "    </tr>\n",
       "    <tr>\n",
       "      <th>2</th>\n",
       "      <td>&lt;start&gt; yukos unit buyer face loan claimthe ow...</td>\n",
       "      <td>&lt;start&gt; yukos owner menatep group says it will...</td>\n",
       "    </tr>\n",
       "    <tr>\n",
       "      <th>3</th>\n",
       "      <td>&lt;start&gt; high fuel price hit ba profitsbritish ...</td>\n",
       "      <td>&lt;start&gt; rod eddington bas chief executive said...</td>\n",
       "    </tr>\n",
       "    <tr>\n",
       "      <th>4</th>\n",
       "      <td>&lt;start&gt; pernod takeover talk lift domecqshares...</td>\n",
       "      <td>&lt;start&gt; pernod has reduced the debt it took on...</td>\n",
       "    </tr>\n",
       "  </tbody>\n",
       "</table>\n",
       "</div>"
      ],
      "text/plain": [
       "                                             Article  \\\n",
       "0  <start> ad sale boost time warner profitquarte...   \n",
       "1  <start> dollar gain greenspan speechthe dollar...   \n",
       "2  <start> yukos unit buyer face loan claimthe ow...   \n",
       "3  <start> high fuel price hit ba profitsbritish ...   \n",
       "4  <start> pernod takeover talk lift domecqshares...   \n",
       "\n",
       "                                             Summary  \n",
       "0  <start> timewarner said fourth quarter sales r...  \n",
       "1  <start> the dollar has hit its highest level a...  \n",
       "2  <start> yukos owner menatep group says it will...  \n",
       "3  <start> rod eddington bas chief executive said...  \n",
       "4  <start> pernod has reduced the debt it took on...  "
      ]
     },
     "execution_count": 8,
     "metadata": {},
     "output_type": "execute_result"
    }
   ],
   "source": [
    "df.Article=df.Article.apply(clean_for_article)\n",
    "df.Summary=df.Summary.apply(clean_for_summary)\n",
    "\n",
    "df.head()"
   ]
  },
  {
   "attachments": {},
   "cell_type": "markdown",
   "metadata": {},
   "source": [
    "## 4. Save Data"
   ]
  },
  {
   "cell_type": "code",
   "execution_count": 9,
   "metadata": {},
   "outputs": [],
   "source": [
    "\n",
    "# Save the dataframe into a csv file\n",
    "df.to_csv('Resources/BBC_News_Summary.csv',index=False)"
   ]
  }
 ],
 "metadata": {
  "kernelspec": {
   "display_name": "Python 3",
   "language": "python",
   "name": "python3"
  },
  "language_info": {
   "codemirror_mode": {
    "name": "ipython",
    "version": 3
   },
   "file_extension": ".py",
   "mimetype": "text/x-python",
   "name": "python",
   "nbconvert_exporter": "python",
   "pygments_lexer": "ipython3",
   "version": "3.10.6"
  },
  "orig_nbformat": 4,
  "vscode": {
   "interpreter": {
    "hash": "916dbcbb3f70747c44a77c7bcd40155683ae19c65e1c03b4aa3499c5328201f1"
   }
  }
 },
 "nbformat": 4,
 "nbformat_minor": 2
}
